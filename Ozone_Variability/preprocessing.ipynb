{
 "cells": [
  {
   "cell_type": "markdown",
   "metadata": {},
   "source": [
    "# Pre-Processing for Ozone Variability Project"
   ]
  },
  {
   "cell_type": "code",
   "execution_count": null,
   "metadata": {},
   "outputs": [],
   "source": [
    "import pandas as pd\n",
    "from sklearn.model_selection import train_test_split\n",
    "from sklearn.linear_model import LinearRegression\n",
    "from sklearn.metrics import mean_squared_error, r2_score\n",
    "from sklearn.preprocessing import StandardScaler\n",
    "import matplotlib.pyplot as plt\n",
    "from sklearn.preprocessing import PolynomialFeatures\n",
    "from sklearn.ensemble import RandomForestRegressor\n",
    "import statsmodels.api as sm\n",
    "import numpy as np\n",
    "import os"
   ]
  },
  {
   "cell_type": "markdown",
   "metadata": {},
   "source": [
    "## Pre-Processing"
   ]
  },
  {
   "cell_type": "code",
   "execution_count": null,
   "metadata": {},
   "outputs": [],
   "source": [
    "# read ozone, press, rhdp, and temp folers:\n",
    "folders = ['press', 'rhdp', 'temp']  # 'ozone' will be processed separately\n",
    "\n",
    "data_ozone = pd.DataFrame()\n",
    "\n",
    "ozone_folder = 'ozone'\n",
    "for filename in os.listdir(ozone_folder):\n",
    "    if filename.endswith('.csv'):\n",
    "        file_path = os.path.join(ozone_folder, filename)\n",
    "        df = pd.read_csv(file_path)\n",
    "        df_la = df[df['County Name'] == 'Los Angeles']\n",
    "        data_ozone = pd.concat([data_ozone, df_la], ignore_index=True)\n",
    "\n",
    "data = data_ozone"
   ]
  },
  {
   "cell_type": "code",
   "execution_count": null,
   "metadata": {},
   "outputs": [],
   "source": [
    "data.shape"
   ]
  },
  {
   "cell_type": "code",
   "execution_count": null,
   "metadata": {},
   "outputs": [],
   "source": [
    "folders = ['press', 'temp', 'rhdp']  # List of folders to process\n",
    "\n",
    "for folder in folders:\n",
    "    suffix = '_' + folder  # Suffix for the columns from this folder\n",
    "\n",
    "    # Initialize an empty DataFrame for this folder's data\n",
    "    folder_data = pd.DataFrame()\n",
    "\n",
    "    file_counter = 0  # Initialize the file counter\n",
    "\n",
    "    for filename in os.listdir(folder):\n",
    "        if filename.endswith('.csv'):\n",
    "            file_counter += 1  # Increment the counter for each file\n",
    "\n",
    "            file_path = os.path.join(folder, filename)\n",
    "            temp_data = pd.read_csv(file_path)\n",
    "            temp_data_la = temp_data[temp_data['County Name'] == 'Los Angeles']\n",
    "\n",
    "            # Concatenate with the folder's DataFrame\n",
    "            folder_data = pd.concat([folder_data, temp_data_la], ignore_index=True)\n",
    "\n",
    "            # Print the file progress within the current folder\n",
    "            print(f\"Processing file '{filename}' in '{folder}' folder: File {file_counter}/24\")\n",
    "\n",
    "    # Merge the combined folder data with the main 'data' DataFrame\n",
    "    data = pd.merge(data, folder_data, on=['Site Num', 'Date Local'], how='outer', suffixes=('', suffix))\n"
   ]
  },
  {
   "cell_type": "code",
   "execution_count": null,
   "metadata": {},
   "outputs": [],
   "source": [
    "data.shape"
   ]
  },
  {
   "cell_type": "code",
   "execution_count": null,
   "metadata": {},
   "outputs": [],
   "source": [
    "wind_folder = 'wind'\n",
    "suffix_speed = '_windspeed'\n",
    "suffix_direction = '_winddirection'\n",
    "\n",
    "wind_speed_data = pd.DataFrame()\n",
    "wind_direction_data = pd.DataFrame()\n",
    "\n",
    "for filename in os.listdir(wind_folder):\n",
    "    if filename.endswith('.csv'):\n",
    "        file_path = os.path.join(wind_folder, filename)\n",
    "        wind_df = pd.read_csv(file_path)\n",
    "\n",
    "        # Filter for 'Los Angeles' and 'Wind Speed - Resultant'\n",
    "        la_wind_speed_data = wind_df[(wind_df['County Name'] == 'Los Angeles') & \n",
    "                                     (wind_df['Parameter Name'] == \"Wind Speed - Resultant\")]\n",
    "\n",
    "        # Filter for 'Los Angeles' and 'Wind Direction - Resultant'\n",
    "        la_wind_direction_data = wind_df[(wind_df['County Name'] == 'Los Angeles') & \n",
    "                                        (wind_df['Parameter Name'] == \"Wind Direction - Resultant\")]\n",
    "\n",
    "        # Concatenate with the respective DataFrames\n",
    "        wind_speed_data = pd.concat([wind_speed_data, la_wind_speed_data], ignore_index=True)\n",
    "        wind_direction_data = pd.concat([wind_direction_data, la_wind_direction_data], ignore_index=True)\n",
    "\n",
    "# Merge Wind Speed and Wind Direction dataframes to the main dataframe\n",
    "data = pd.merge(data, wind_speed_data, on=['Site Num', 'Date Local'], how='outer', suffixes=('', suffix_speed))\n",
    "data = pd.merge(data, wind_direction_data, on=['Site Num', 'Date Local'], how='outer', suffixes=('', suffix_direction))\n"
   ]
  },
  {
   "cell_type": "code",
   "execution_count": null,
   "metadata": {},
   "outputs": [],
   "source": [
    "data.to_csv('./final_data/alldata.csv', index=False)"
   ]
  }
 ],
 "metadata": {
  "kernelspec": {
   "display_name": "base",
   "language": "python",
   "name": "python3"
  },
  "language_info": {
   "codemirror_mode": {
    "name": "ipython",
    "version": 3
   },
   "file_extension": ".py",
   "mimetype": "text/x-python",
   "name": "python",
   "nbconvert_exporter": "python",
   "pygments_lexer": "ipython3",
   "version": "3.9.13"
  }
 },
 "nbformat": 4,
 "nbformat_minor": 2
}
