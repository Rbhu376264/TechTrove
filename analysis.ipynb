{
 "cells": [
  {
   "cell_type": "markdown",
   "metadata": {},
   "source": [
    "# Analysis of Data"
   ]
  },
  {
   "cell_type": "code",
   "execution_count": null,
   "metadata": {},
   "outputs": [],
   "source": [
    "import pandas as pd\n",
    "from sklearn.model_selection import train_test_split\n",
    "from sklearn.linear_model import LinearRegression\n",
    "from sklearn.metrics import mean_squared_error, r2_score\n",
    "from sklearn.preprocessing import StandardScaler\n",
    "import matplotlib.pyplot as plt\n",
    "from sklearn.preprocessing import PolynomialFeatures\n",
    "from sklearn.ensemble import RandomForestRegressor\n",
    "import statsmodels.api as sm\n",
    "import numpy as np\n",
    "import os"
   ]
  },
  {
   "cell_type": "code",
   "execution_count": null,
   "metadata": {},
   "outputs": [],
   "source": [
    "data = pd.read_csv('./final_data/alldata.csv')"
   ]
  },
  {
   "cell_type": "code",
   "execution_count": null,
   "metadata": {},
   "outputs": [],
   "source": [
    "import pandas as pd\n",
    "import matplotlib.pyplot as plt\n",
    "import seaborn as sns\n",
    "from statsmodels.tsa.seasonal import seasonal_decompose\n",
    "import numpy as np\n",
    "\n",
    "\n",
    "data['date'] = pd.to_datetime(data['Date Local'])\n",
    "\n",
    "# Aggregating the data by date\n",
    "data['date'] = pd.to_datetime(data['date'])\n",
    "daily_mean = data.groupby('date')['Arithmetic Mean'].mean()\n",
    "\n",
    "# Histogram of daily mean values\n",
    "plt.figure(figsize=(10, 6))\n",
    "sns.histplot(daily_mean, bins=30, kde=True)\n",
    "plt.title('Histogram of Daily Arithmetic Mean Ozone Concentration')\n",
    "plt.xlabel('Arithmetic Mean Ozone Concentration')\n",
    "plt.ylabel('Frequency')\n",
    "plt.show()\n",
    "\n",
    "# Seasonal Trend Decomposition\n",
    "decomposed = seasonal_decompose(daily_mean, model='additive', period=365)\n",
    "\n",
    "# Plotting the decomposed components\n",
    "plt.figure(figsize=(12, 8))\n",
    "plt.subplot(411)\n",
    "plt.plot(decomposed.observed, label='Observed')\n",
    "plt.legend(loc='upper left')\n",
    "plt.subplot(412)\n",
    "plt.plot(decomposed.trend, label='Trend')\n",
    "plt.legend(loc='upper left')\n",
    "plt.subplot(413)\n",
    "plt.plot(decomposed.seasonal, label='Seasonal')\n",
    "plt.legend(loc='upper left')\n",
    "plt.subplot(414)\n",
    "plt.plot(decomposed.resid, label='Residual')\n",
    "plt.legend(loc='upper left')\n",
    "plt.tight_layout()\n",
    "plt.show()"
   ]
  },
  {
   "cell_type": "code",
   "execution_count": null,
   "metadata": {},
   "outputs": [],
   "source": [
    "# Filter data for the year 2000 and 2022\n",
    "data['date'] = pd.to_datetime(data['date'])\n",
    "data_2000 = data[data['date'].dt.year == 2000]\n",
    "data_2022 = data[data['date'].dt.year == 2022]\n",
    "\n",
    "# Plot histograms\n",
    "plt.figure(figsize=(14, 6))\n",
    "\n",
    "plt.subplot(1, 2, 1)\n",
    "plt.hist(data_2000['Arithmetic Mean'], bins=30, alpha=0.7, color='blue', edgecolor='black')\n",
    "plt.title('Histogram of Ozone Concentration for 2000')\n",
    "plt.xlabel('Arithmetic Mean Ozone Concentration')\n",
    "plt.ylabel('Frequency')\n",
    "\n",
    "# Histogram for 2022\n",
    "plt.subplot(1, 2, 2)\n",
    "plt.hist(data_2022['Arithmetic Mean'], bins=30, alpha=0.7, color='green', edgecolor='black')\n",
    "plt.title('Histogram of Ozone Concentration for 2022')\n",
    "plt.xlabel('Arithmetic Mean Ozone Concentration')\n",
    "plt.ylabel('Frequency')\n",
    "\n",
    "plt.tight_layout()\n",
    "plt.show()\n"
   ]
  },
  {
   "cell_type": "code",
   "execution_count": null,
   "metadata": {},
   "outputs": [],
   "source": [
    "min_data = pd.read_csv('./final_data/new_min_data.csv')"
   ]
  },
  {
   "cell_type": "code",
   "execution_count": null,
   "metadata": {},
   "outputs": [],
   "source": [
    "# Calculating the correlation matrix\n",
    "correlation_matrix = min_data.corr()\n",
    "\n",
    "# Plotting the correlation matrix using a heatmap\n",
    "plt.figure(figsize=(10, 8))\n",
    "sns.heatmap(correlation_matrix, annot=True, cmap='coolwarm', fmt=\".2f\", \n",
    "            xticklabels=['Ozone', 'Temperature', 'Relative Humidity', 'Wind Direction', 'Wind Speed'],\n",
    "            yticklabels=['Ozone', 'Temperature', 'Relative Humidity', 'Wind Direction', 'Wind Speed'])\n",
    "plt.title('Correlation Analysis of Air Quality Indicators')\n",
    "plt.show()"
   ]
  }
 ],
 "metadata": {
  "kernelspec": {
   "display_name": "base",
   "language": "python",
   "name": "python3"
  },
  "language_info": {
   "codemirror_mode": {
    "name": "ipython",
    "version": 3
   },
   "file_extension": ".py",
   "mimetype": "text/x-python",
   "name": "python",
   "nbconvert_exporter": "python",
   "pygments_lexer": "ipython3",
   "version": "3.9.13"
  }
 },
 "nbformat": 4,
 "nbformat_minor": 2
}
